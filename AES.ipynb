{
  "nbformat": 4,
  "nbformat_minor": 0,
  "metadata": {
    "colab": {
      "name": "aes.ipynb",
      "provenance": [],
      "collapsed_sections": []
    },
    "kernelspec": {
      "name": "python3",
      "display_name": "Python 3"
    },
    "language_info": {
      "name": "python"
    }
  },
  "cells": [
    {
      "cell_type": "code",
      "metadata": {
        "id": "HWvxldMwbzFj"
      },
      "source": [
        "a = [0,0,0,0,1,1,1,1,1,0,1,1,0,1,1,1,1,1,0,0,0,0,1,0,0,0,0,0,0,1,0,0] \n",
        "b = [1,1,0,0,0,0,1,0,1,1,0,0,0,0,0,1] "
      ],
      "execution_count": null,
      "outputs": []
    },
    {
      "cell_type": "code",
      "metadata": {
        "id": "KX23JLydgK3M"
      },
      "source": [
        "a = [1,1,0,1,0,1,0,0,0,0,0,1,1,1,0,1,1,1,0,0,1,0,0,1,1,1,1,0,0,1,0,1]\n",
        "b = [1,1,1,1,1,0,0,1,1,0,1,0,1,1,0,0] "
      ],
      "execution_count": null,
      "outputs": []
    },
    {
      "cell_type": "code",
      "metadata": {
        "id": "UpfDO8nQcvVi"
      },
      "source": [
        "def devide(a, b):\n",
        "  c = a[:]\n",
        "  res = []\n",
        "  while (c[0] != 1):\n",
        "      c.pop(0)\n",
        "  while (len(c) >= len(b)):\n",
        "    for i in range(len(b)):\n",
        "      c[i] = (c[i] + b[i]) % 2\n",
        "    res.append(1)\n",
        "    #print(c)\n",
        "    nul = 0\n",
        "    while (c[0] != 1 and len(c) >= len(b)):\n",
        "      c.pop(0)\n",
        "      if(c==[]):\n",
        "        break;\n",
        "      nul+= 1\n",
        "      if (nul > 1):\n",
        "        res.append(0)\n",
        "  while (c != [] and c[0] != 1):\n",
        "      c.pop(0)\n",
        "  ost = c\n",
        "  return (res, ost)"
      ],
      "execution_count": null,
      "outputs": []
    },
    {
      "cell_type": "code",
      "metadata": {
        "id": "MxGmz8zHoVPZ",
        "colab": {
          "base_uri": "https://localhost:8080/"
        },
        "outputId": "67334725-ced0-48fb-fc76-0abc882b8cb0"
      },
      "source": [
        "devide(a,b)"
      ],
      "execution_count": null,
      "outputs": [
        {
          "output_type": "execute_result",
          "data": {
            "text/plain": [
              "([1, 0, 1, 0, 1, 1, 1, 0, 0, 0, 1, 0, 1], [1, 1, 1, 0, 0, 0, 0, 0, 0, 0, 0, 1])"
            ]
          },
          "metadata": {},
          "execution_count": 3
        }
      ]
    },
    {
      "cell_type": "code",
      "metadata": {
        "id": "JiglEMp8nDuH"
      },
      "source": [
        "def xor(c, d):\n",
        "  a = c.copy()\n",
        "  b = d.copy()\n",
        "  r = abs(len(a) - len(b))\n",
        "  if (len(a) > len(b)):\n",
        "    max_len = len(a)\n",
        "    res = a.copy()\n",
        "    for i in range(max_len-1, r-1, -1):\n",
        "      #print(i)\n",
        "      res[i] = (a[i] + b[i-r]) % 2\n",
        "  else:\n",
        "    max_len = len(b)\n",
        "    res = b.copy()\n",
        "    for i in range(max_len-1, r-1, -1):\n",
        "      #print(i)\n",
        "      res[i] = (a[i-r] + b[i]) % 2\n",
        "  \n",
        "  while (res != [] and res[0] != 1):\n",
        "    res.pop(0)\n",
        "  return res\n",
        "    \n",
        "    "
      ],
      "execution_count": null,
      "outputs": []
    },
    {
      "cell_type": "code",
      "metadata": {
        "id": "AZK5bMHbqc2F"
      },
      "source": [
        "def mult(c, d):\n",
        "  a = c.copy()\n",
        "  b = d.copy()\n",
        "  matrix = []\n",
        "  len_a = len(a)\n",
        "  #print(len_a)\n",
        "  for i in range(len_a):\n",
        "    if (a[i] == 1):\n",
        "      row = b.copy()\n",
        "      for j in range(len_a-i-1):\n",
        "        row.append(0)\n",
        "      matrix.append(row)\n",
        "  for i in range(len(matrix)-1):\n",
        "    matrix[0] = xor(matrix[0], matrix[1])\n",
        "    matrix.pop(1)\n",
        "  print(matrix)\n",
        "  if (matrix != []):\n",
        "    return matrix[0]\n",
        "  else:\n",
        "    return [0]"
      ],
      "execution_count": null,
      "outputs": []
    },
    {
      "cell_type": "code",
      "metadata": {
        "colab": {
          "base_uri": "https://localhost:8080/"
        },
        "id": "Rmp2VoWkr6s6",
        "outputId": "436297d5-dcdc-42ad-d3d1-aa14e2a478e3"
      },
      "source": [
        "mult(a,b)"
      ],
      "execution_count": null,
      "outputs": [
        {
          "output_type": "execute_result",
          "data": {
            "text/plain": [
              "[1, 1, 0, 0]"
            ]
          },
          "metadata": {},
          "execution_count": 7
        }
      ]
    },
    {
      "cell_type": "code",
      "metadata": {
        "colab": {
          "base_uri": "https://localhost:8080/"
        },
        "id": "bGRKxUFvoOnt",
        "outputId": "38cb7961-5b84-4e5b-fb76-dc48cbafdcd2"
      },
      "source": [
        "xor(a,b)"
      ],
      "execution_count": null,
      "outputs": [
        {
          "output_type": "execute_result",
          "data": {
            "text/plain": [
              "[1, 1, 1]"
            ]
          },
          "metadata": {},
          "execution_count": 8
        }
      ]
    },
    {
      "cell_type": "code",
      "metadata": {
        "colab": {
          "base_uri": "https://localhost:8080/"
        },
        "id": "T0BlyxLUdlEg",
        "outputId": "a2c16711-3a62-4129-ecdc-8c366ea83e24"
      },
      "source": [
        "q, r = devide(a,b)\n",
        "print(q)\n",
        "print(r)"
      ],
      "execution_count": null,
      "outputs": [
        {
          "output_type": "stream",
          "name": "stdout",
          "text": [
            "[]\n",
            "[1, 1]\n"
          ]
        }
      ]
    },
    {
      "cell_type": "code",
      "metadata": {
        "id": "rRxflnOZlY4E"
      },
      "source": [
        "a=[1,1,1,1,0,1,0,0,0,0,0,0,0,1,0,0,1,1,1,1,1,1,1,0,0,0,0,1,0,0,1,0,1,1,1,1,0,0,1,1,1,1,1,1,0,0,0,1,1,1,1,0,1,1,0,1,1,0,1,1,0,0,0,1]\n",
        "b=[1,0,1,1,1,1,0,0,1,0,0,0,1,0,1,0]"
      ],
      "execution_count": null,
      "outputs": []
    },
    {
      "cell_type": "code",
      "metadata": {
        "id": "-f9qm4GckUlA"
      },
      "source": [
        "def nod(c, b):\n",
        " # a1 = c[:]\n",
        "  a = c[:]\n",
        " # b1 = b[:]\n",
        "  b = b[:]\n",
        "  r2 = []\n",
        "  r = [1]\n",
        "  q = []\n",
        "  x = [[1], [0]]\n",
        "  y = [[0], [1]]\n",
        "  i = 2\n",
        "  while(r != []):\n",
        "    r2 = r\n",
        "    r = []\n",
        "    #a1 = a\n",
        "    #b1 = b\n",
        "    \n",
        "    q, r = devide(a, b)\n",
        "    #print(q)\n",
        "    x.append(xor(x[i-2], mult(q, x[i-1])))\n",
        "    #print(x)\n",
        "    y.append(xor(y[i-2], mult(q, y[i-1])))\n",
        "    #print(y)\n",
        "    a = b\n",
        "    b = r\n",
        "    i += 1\n",
        "\n",
        "  return (r2, x[i-2], y[i-2])\n"
      ],
      "execution_count": null,
      "outputs": []
    },
    {
      "cell_type": "code",
      "metadata": {
        "id": "cJ6nlgarwGLM"
      },
      "source": [
        "a = [1, 0, 0, 0, 1]\n",
        "b = [1, 1, 1]"
      ],
      "execution_count": null,
      "outputs": []
    },
    {
      "cell_type": "code",
      "metadata": {
        "colab": {
          "base_uri": "https://localhost:8080/"
        },
        "id": "oK2Y3aWJln9T",
        "outputId": "c65f8142-6d40-43b1-95a5-b6292251210e"
      },
      "source": [
        "rmin, x, y = nod(a, b)\n",
        "print(rmin, x , y)"
      ],
      "execution_count": null,
      "outputs": [
        {
          "output_type": "stream",
          "name": "stdout",
          "text": [
            "[1] [1, 0] [1, 1, 0, 1]\n"
          ]
        }
      ]
    },
    {
      "cell_type": "code",
      "metadata": {
        "colab": {
          "base_uri": "https://localhost:8080/"
        },
        "id": "2G7-zN_Slpu3",
        "outputId": "2ca5db4e-a0b7-4f26-b67a-6e2a0a7b8067"
      },
      "source": [
        "mult([1, 1, 0], [1])"
      ],
      "execution_count": null,
      "outputs": [
        {
          "output_type": "execute_result",
          "data": {
            "text/plain": [
              "[1, 1, 0]"
            ]
          },
          "metadata": {},
          "execution_count": 14
        }
      ]
    },
    {
      "cell_type": "code",
      "metadata": {
        "colab": {
          "base_uri": "https://localhost:8080/"
        },
        "id": "Jh7fxnyTyokt",
        "outputId": "9e8cc1cf-af73-4d5f-fbe2-8a69a1f123ea"
      },
      "source": [
        "xor(mult(a, x),mult(b,y))"
      ],
      "execution_count": null,
      "outputs": [
        {
          "output_type": "execute_result",
          "data": {
            "text/plain": [
              "[1]"
            ]
          },
          "metadata": {},
          "execution_count": 15
        }
      ]
    },
    {
      "cell_type": "code",
      "metadata": {
        "id": "sM4x5SIrBGMx"
      },
      "source": [
        "a=[0,0,1,0,1,1,0,0,1,1,1,1,0,1,0,0]\n",
        "p=[0,1,1,1,1,0,1,0,1,1,1,0,0,1,1,1]"
      ],
      "execution_count": null,
      "outputs": []
    },
    {
      "cell_type": "code",
      "metadata": {
        "colab": {
          "base_uri": "https://localhost:8080/"
        },
        "id": "oc23_RNlBTSF",
        "outputId": "bf120e7e-a500-4477-9872-6bc2f45445d6"
      },
      "source": [
        "rmin, x, y = nod(a, p)"
      ],
      "execution_count": null,
      "outputs": [
        {
          "output_type": "stream",
          "name": "stdout",
          "text": [
            "[]\n",
            "[]\n",
            "[[1, 1]]\n",
            "[[]]\n",
            "[[1, 0, 0, 1]]\n",
            "[[1, 1, 1]]\n",
            "[[1, 0, 1, 0, 0, 0]]\n",
            "[[1, 1, 0, 1, 1]]\n",
            "[[1, 1, 0, 1, 0, 0, 0, 1]]\n",
            "[[1, 0, 0, 0, 1, 1, 0]]\n",
            "[[1, 0, 1, 1, 0, 1, 0, 1, 1, 0]]\n",
            "[[1, 1, 0, 0, 0, 0, 1, 1, 0]]\n",
            "[[1, 1, 1, 0, 0, 0, 0, 0, 1, 1, 1]]\n",
            "[[1, 0, 1, 0, 1, 0, 0, 1, 0, 0]]\n",
            "[[1, 0, 1, 0, 0, 1, 1, 1, 1, 0, 1, 0, 1, 0]]\n",
            "[[1, 1, 0, 1, 1, 1, 0, 0, 1, 0, 0, 1, 1]]\n",
            "[[1, 1, 1, 1, 1, 0, 1, 0, 0, 1, 1, 1, 0, 0, 1]]\n",
            "[[1, 0, 1, 1, 1, 0, 0, 0, 0, 1, 0, 0, 0, 1]]\n"
          ]
        }
      ]
    },
    {
      "cell_type": "code",
      "metadata": {
        "id": "nn_ItWP6BcgN"
      },
      "source": [
        "# x = inv, rmin = [1]"
      ],
      "execution_count": null,
      "outputs": []
    },
    {
      "cell_type": "code",
      "metadata": {
        "id": "SHUc_Ow-Cd-S"
      },
      "source": [
        "Byte=[1,1,1,0,1,1,0,1]\n",
        "m=[1, 0, 0, 0, 1, 1, 0, 1, 1]"
      ],
      "execution_count": null,
      "outputs": []
    },
    {
      "cell_type": "code",
      "metadata": {
        "colab": {
          "base_uri": "https://localhost:8080/"
        },
        "id": "RwvvYzjNCkFK",
        "outputId": "99592bb1-23a5-4619-8e53-db53706c4ff8"
      },
      "source": [
        "rmin, x, y = nod(Byte, m)"
      ],
      "execution_count": null,
      "outputs": [
        {
          "output_type": "stream",
          "name": "stdout",
          "text": [
            "[]\n",
            "[]\n",
            "[[1, 1]]\n",
            "[[]]\n",
            "[[1, 0, 1, 0]]\n",
            "[[1, 1, 0]]\n",
            "[[1, 0, 1, 0, 0, 1, 1]]\n",
            "[[1, 1, 0, 1, 1, 0]]\n",
            "[[1, 0, 0, 0, 1, 0, 0, 0, 0]]\n",
            "[[1, 1, 1, 0, 1, 0, 1, 1]]\n"
          ]
        }
      ]
    },
    {
      "cell_type": "code",
      "metadata": {
        "colab": {
          "base_uri": "https://localhost:8080/"
        },
        "id": "Eh4LGOg7CwuV",
        "outputId": "33d8d416-abfb-4101-80cb-5f498b4da398"
      },
      "source": [
        "print(rmin, x)"
      ],
      "execution_count": null,
      "outputs": [
        {
          "output_type": "stream",
          "name": "stdout",
          "text": [
            "[1] [1, 0, 1, 0, 0, 0, 0]\n"
          ]
        }
      ]
    },
    {
      "cell_type": "code",
      "metadata": {
        "id": "ckgUlgEFCyG3"
      },
      "source": [
        "a__=[0, 0, 0, 1, 1, 1, 1, 1]"
      ],
      "execution_count": null,
      "outputs": []
    },
    {
      "cell_type": "code",
      "metadata": {
        "colab": {
          "base_uri": "https://localhost:8080/"
        },
        "id": "sRMyJKAcC49u",
        "outputId": "d8efaf4a-0ac5-4e30-e623-657f7139d810"
      },
      "source": [
        "step2 = mult(a__, x)"
      ],
      "execution_count": null,
      "outputs": [
        {
          "output_type": "stream",
          "name": "stdout",
          "text": [
            "[[1, 1, 0, 0, 0, 1, 1, 0, 0, 0, 0]]\n"
          ]
        }
      ]
    },
    {
      "cell_type": "code",
      "metadata": {
        "colab": {
          "base_uri": "https://localhost:8080/"
        },
        "id": "8_As_wTQC-RY",
        "outputId": "bee954bf-b6dd-4ad0-de32-bd978a968432"
      },
      "source": [
        "step2"
      ],
      "execution_count": null,
      "outputs": [
        {
          "output_type": "execute_result",
          "data": {
            "text/plain": [
              "[1, 1, 0, 0, 0, 1, 1, 0, 0, 0, 0]"
            ]
          },
          "metadata": {},
          "execution_count": 65
        }
      ]
    },
    {
      "cell_type": "code",
      "metadata": {
        "id": "DYW8jqzxD5M0"
      },
      "source": [
        "m2=[1, 0, 0, 0, 0, 0, 0, 0, 1]"
      ],
      "execution_count": null,
      "outputs": []
    },
    {
      "cell_type": "code",
      "metadata": {
        "id": "WO0Mc-oPD9Ay"
      },
      "source": [
        "step2 = devide(step2, m2)[1]"
      ],
      "execution_count": null,
      "outputs": []
    },
    {
      "cell_type": "code",
      "metadata": {
        "colab": {
          "base_uri": "https://localhost:8080/"
        },
        "id": "P4HzYuXOEIWN",
        "outputId": "d65cf4bd-51a3-44b2-9f03-3302fdbd45d6"
      },
      "source": [
        "step2"
      ],
      "execution_count": null,
      "outputs": [
        {
          "output_type": "execute_result",
          "data": {
            "text/plain": [
              "[1, 1, 0, 1, 1, 0]"
            ]
          },
          "metadata": {},
          "execution_count": 68
        }
      ]
    },
    {
      "cell_type": "code",
      "metadata": {
        "id": "0Z6zBZctDQ-O"
      },
      "source": [
        "b__=[0, 1, 1, 0, 1, 0, 0, 1]"
      ],
      "execution_count": null,
      "outputs": []
    },
    {
      "cell_type": "code",
      "metadata": {
        "id": "2H0Wd5bMDJPG"
      },
      "source": [
        "step3 = xor(step2, b__)"
      ],
      "execution_count": null,
      "outputs": []
    },
    {
      "cell_type": "code",
      "metadata": {
        "colab": {
          "base_uri": "https://localhost:8080/"
        },
        "id": "PHTF7nt6DWB_",
        "outputId": "868ebf2c-83fa-42dd-860e-4437c956db39"
      },
      "source": [
        "step3"
      ],
      "execution_count": null,
      "outputs": [
        {
          "output_type": "execute_result",
          "data": {
            "text/plain": [
              "[1, 0, 1, 1, 1, 1, 1]"
            ]
          },
          "metadata": {},
          "execution_count": 70
        }
      ]
    },
    {
      "cell_type": "code",
      "metadata": {
        "colab": {
          "base_uri": "https://localhost:8080/"
        },
        "id": "nnuYiVQkDXZF",
        "outputId": "aa0417e3-a094-4dd2-a625-1aadb8180ae3"
      },
      "source": [
        "devide(step3, m2)"
      ],
      "execution_count": null,
      "outputs": [
        {
          "output_type": "execute_result",
          "data": {
            "text/plain": [
              "([], [1, 0, 1, 1, 1, 1, 1])"
            ]
          },
          "metadata": {},
          "execution_count": 71
        }
      ]
    },
    {
      "cell_type": "code",
      "metadata": {
        "id": "uOj2W5OkDxgm"
      },
      "source": [
        "a= [0,0,1,1,1,1,1,1]\n",
        "b= [0,1,1,0,0,1,0,1]"
      ],
      "execution_count": null,
      "outputs": []
    },
    {
      "cell_type": "code",
      "metadata": {
        "id": "1A5TFF40HXAu"
      },
      "source": [
        "res = xor(a,b)"
      ],
      "execution_count": null,
      "outputs": []
    },
    {
      "cell_type": "code",
      "metadata": {
        "colab": {
          "base_uri": "https://localhost:8080/"
        },
        "id": "MobK9d0lHaAH",
        "outputId": "c3514409-8603-47d2-b5bc-d668063c41cf"
      },
      "source": [
        "res"
      ],
      "execution_count": null,
      "outputs": [
        {
          "output_type": "execute_result",
          "data": {
            "text/plain": [
              "[1, 0, 1, 1, 0, 1, 0]"
            ]
          },
          "metadata": {},
          "execution_count": 74
        }
      ]
    },
    {
      "cell_type": "code",
      "metadata": {
        "id": "8GDJmJjsHakt"
      },
      "source": [
        ""
      ],
      "execution_count": null,
      "outputs": []
    }
  ]
}