{
 "cells": [
  {
   "cell_type": "code",
   "execution_count": 1,
   "metadata": {
    "colab": {
     "base_uri": "https://localhost:8080/"
    },
    "id": "SdVc8QeSg36p",
    "outputId": "d5c722ac-6f28-411c-d6d8-3be6a07164d0"
   },
   "outputs": [
    {
     "name": "stdout",
     "output_type": "stream",
     "text": [
      "Defaulting to user installation because normal site-packages is not writeable\n",
      "Collecting bitstring\n",
      "  Downloading bitstring-3.1.9-py3-none-any.whl (38 kB)\n",
      "Installing collected packages: bitstring\n",
      "Successfully installed bitstring-3.1.9\n",
      "Note: you may need to restart the kernel to use updated packages.\n"
     ]
    }
   ],
   "source": [
    "pip install bitstring"
   ]
  },
  {
   "cell_type": "code",
   "execution_count": 2,
   "metadata": {
    "id": "HV93VPufg1hN"
   },
   "outputs": [],
   "source": [
    "from bitstring import BitStream, BitArray"
   ]
  },
  {
   "cell_type": "code",
   "execution_count": 3,
   "metadata": {
    "id": "l5pJstIBg9OH"
   },
   "outputs": [],
   "source": [
    "plain_text = BitArray(hex='61312360ef775e51')"
   ]
  },
  {
   "cell_type": "code",
   "execution_count": 4,
   "metadata": {
    "id": "ygz-_i16iG_P"
   },
   "outputs": [],
   "source": [
    "key = BitArray(hex='5692314dd979efc991042068805adce2e82b8d2d4ccbfd49ce471125c2817628')"
   ]
  },
  {
   "cell_type": "code",
   "execution_count": 5,
   "metadata": {
    "colab": {
     "base_uri": "https://localhost:8080/"
    },
    "id": "YSZrUW3yhVCw",
    "outputId": "d81a5b8b-a35c-429f-f8bc-a8c3c84f63bd"
   },
   "outputs": [
    {
     "data": {
      "text/plain": [
       "BitArray('0x5692314d')"
      ]
     },
     "execution_count": 5,
     "metadata": {},
     "output_type": "execute_result"
    }
   ],
   "source": [
    "key[0:32]"
   ]
  },
  {
   "cell_type": "code",
   "execution_count": 6,
   "metadata": {
    "id": "IEiG84AoiXB-"
   },
   "outputs": [],
   "source": [
    "keys=[]\n",
    "for i in range(3):\n",
    "    for j in range(8):\n",
    "        keys.append(key[(32*j):(32*j+32)])\n",
    "for j in range(8,0,-1):\n",
    "    keys.append(key[(32*j-32):(32*j)])"
   ]
  },
  {
   "cell_type": "code",
   "execution_count": 7,
   "metadata": {
    "colab": {
     "base_uri": "https://localhost:8080/"
    },
    "id": "Vgxt_VnMi2xc",
    "outputId": "c222de76-e785-4d6e-924b-333ac463d1a5"
   },
   "outputs": [
    {
     "name": "stdout",
     "output_type": "stream",
     "text": [
      "K1 =\t 5692314d\n",
      "K2 =\t d979efc9\n",
      "K3 =\t 91042068\n",
      "K4 =\t 805adce2\n",
      "K5 =\t e82b8d2d\n",
      "K6 =\t 4ccbfd49\n",
      "K7 =\t ce471125\n",
      "K8 =\t c2817628\n",
      "K9 =\t 5692314d\n",
      "K10 =\t d979efc9\n",
      "K11 =\t 91042068\n",
      "K12 =\t 805adce2\n",
      "K13 =\t e82b8d2d\n",
      "K14 =\t 4ccbfd49\n",
      "K15 =\t ce471125\n",
      "K16 =\t c2817628\n",
      "K17 =\t 5692314d\n",
      "K18 =\t d979efc9\n",
      "K19 =\t 91042068\n",
      "K20 =\t 805adce2\n",
      "K21 =\t e82b8d2d\n",
      "K22 =\t 4ccbfd49\n",
      "K23 =\t ce471125\n",
      "K24 =\t c2817628\n",
      "K25 =\t c2817628\n",
      "K26 =\t ce471125\n",
      "K27 =\t 4ccbfd49\n",
      "K28 =\t e82b8d2d\n",
      "K29 =\t 805adce2\n",
      "K30 =\t 91042068\n",
      "K31 =\t d979efc9\n",
      "K32 =\t 5692314d\n"
     ]
    }
   ],
   "source": [
    "for i in range(32):\n",
    "    print(f'K{i+1} =\\t {keys[i].hex}')"
   ]
  },
  {
   "cell_type": "code",
   "execution_count": 8,
   "metadata": {
    "id": "8Xz1yVblk4Ep"
   },
   "outputs": [],
   "source": [
    "s_fold =[\n",
    "    BitArray(hex='4a92d80e6b1c7f53'),\n",
    "    BitArray(hex='eb4c6dfa23810759'),\n",
    "    BitArray(hex='581da342efc7609b'),\n",
    "    BitArray(hex='7da1089fe46cb253'),\n",
    "    BitArray(hex='6c715fd84a9e03b2'),\n",
    "    BitArray(hex='4ba0721d36859cfe'),\n",
    "    BitArray(hex='db413f590ae7682c'),\n",
    "    BitArray(hex='1fd057a4923e6b8c')\n",
    "]"
   ]
  },
  {
   "cell_type": "code",
   "execution_count": 9,
   "metadata": {
    "id": "eqiW6xXop7w5"
   },
   "outputs": [],
   "source": [
    "L,R=plain_text[0:32],plain_text[32:]"
   ]
  },
  {
   "cell_type": "code",
   "execution_count": 16,
   "metadata": {
    "id": "Aptak-CFqSKN"
   },
   "outputs": [
    {
     "name": "stdout",
     "output_type": "stream",
     "text": [
      "R= 0x2c18a73f\n",
      "L= 0x831488f1\n",
      "R= 0x567a429e\n",
      "L= 0x2c18a73f\n",
      "R= 0x029e75ee\n",
      "L= 0x567a429e\n",
      "R= 0xf1ae49bb\n",
      "L= 0x029e75ee\n",
      "R= 0x23173a76\n",
      "L= 0xf1ae49bb\n",
      "R= 0x7945a9f7\n",
      "L= 0x23173a76\n",
      "R= 0x7c3a8ca1\n",
      "L= 0x7945a9f7\n",
      "R= 0xa216b8dc\n",
      "L= 0x7c3a8ca1\n",
      "R= 0x09f89d37\n",
      "L= 0xa216b8dc\n",
      "R= 0xf070323d\n",
      "L= 0x09f89d37\n",
      "R= 0x0e2fa66e\n",
      "L= 0xf070323d\n",
      "R= 0xc277b912\n",
      "L= 0x0e2fa66e\n",
      "R= 0x04a746a8\n",
      "L= 0xc277b912\n",
      "R= 0xc8f1c54b\n",
      "L= 0x04a746a8\n",
      "R= 0xf52bcb7e\n",
      "L= 0xc8f1c54b\n",
      "R= 0xda2e931d\n",
      "L= 0xf52bcb7e\n",
      "R= 0xcd11520d\n",
      "L= 0xda2e931d\n",
      "R= 0xb8f2c3e2\n",
      "L= 0xcd11520d\n",
      "R= 0x00a8cc90\n",
      "L= 0xb8f2c3e2\n",
      "R= 0x344628b8\n",
      "L= 0x00a8cc90\n",
      "R= 0x6fb9f191\n",
      "L= 0x344628b8\n",
      "R= 0x71ba36bf\n",
      "L= 0x6fb9f191\n",
      "R= 0x8550df63\n",
      "L= 0x71ba36bf\n",
      "R= 0x262a406f\n",
      "L= 0x8550df63\n",
      "R= 0xe25dfdf5\n",
      "L= 0x262a406f\n",
      "R= 0x655fde19\n",
      "L= 0xe25dfdf5\n",
      "R= 0x03f713d5\n",
      "L= 0x655fde19\n",
      "R= 0xb1813499\n",
      "L= 0x03f713d5\n",
      "R= 0x5dabe28d\n",
      "L= 0xb1813499\n",
      "R= 0x0ad70e32\n",
      "L= 0x5dabe28d\n",
      "R= 0xe4cd903c\n",
      "L= 0x0ad70e32\n",
      "R= 0x928f1f3b\n",
      "L= 0xe4cd903c\n"
     ]
    }
   ],
   "source": [
    "for i in range(32):\n",
    "    rk=BitArray(32)\n",
    "    s=hex((R.uint+keys[i].uint)%(2**32))\n",
    "    while(len(s) < 10):\n",
    "        s=s[0:2]+'0'+s[2:]\n",
    "    rk[0:32]=s\n",
    "    sr=BitArray(32)\n",
    "    for j in range(8):\n",
    "        sr[4*j:(4*j+4)]=s_fold[j][rk[4*j:(4*j+4)].uint*4:rk[4*j:(4*j+4)].uint*4+4]\n",
    "    tmp=sr[0:11]\n",
    "    word=(sr<<11)\n",
    "    word[32-11:]=tmp\n",
    "    word=word^L\n",
    "    L=R\n",
    "    R=word\n",
    "    print(\"R=\",R)\n",
    "    print(\"L=\",L)"
   ]
  },
  {
   "cell_type": "code",
   "execution_count": 13,
   "metadata": {},
   "outputs": [
    {
     "data": {
      "text/plain": [
       "BitArray('0x276bb79d')"
      ]
     },
     "execution_count": 13,
     "metadata": {},
     "output_type": "execute_result"
    }
   ],
   "source": [
    "R"
   ]
  },
  {
   "cell_type": "code",
   "execution_count": 11,
   "metadata": {
    "colab": {
     "base_uri": "https://localhost:8080/"
    },
    "id": "gWOFFsQRBc2r",
    "outputId": "742cd09c-1ebd-45a8-a4e4-ffa1c6c92e1e"
   },
   "outputs": [
    {
     "data": {
      "text/plain": [
       "(BitArray('0x276bb79d'), BitArray('0xe6b8f0af'))"
      ]
     },
     "execution_count": 11,
     "metadata": {},
     "output_type": "execute_result"
    }
   ],
   "source": [
    "R,L"
   ]
  },
  {
   "cell_type": "code",
   "execution_count": 12,
   "metadata": {
    "colab": {
     "base_uri": "https://localhost:8080/",
     "height": 35
    },
    "id": "UbPWkVya0Fst",
    "outputId": "51ea9d5b-1674-4940-9475-6fc679243a1e"
   },
   "outputs": [
    {
     "data": {
      "text/plain": [
       "'276bb79de6b8f0af'"
      ]
     },
     "execution_count": 12,
     "metadata": {},
     "output_type": "execute_result"
    }
   ],
   "source": [
    "output=R.hex+L.hex\n",
    "output"
   ]
  },
  {
   "cell_type": "code",
   "execution_count": null,
   "metadata": {},
   "outputs": [],
   "source": []
  }
 ],
 "metadata": {
  "colab": {
   "collapsed_sections": [],
   "name": "ГОСТ(28).ipynb",
   "provenance": []
  },
  "interpreter": {
   "hash": "e367c2e9d3bc1d914edd513d0c4f07cdd1e1e084cb7a96c1a9c0435592e49755"
  },
  "kernelspec": {
   "display_name": "Python 3",
   "language": "python",
   "name": "python3"
  },
  "language_info": {
   "codemirror_mode": {
    "name": "ipython",
    "version": 3
   },
   "file_extension": ".py",
   "mimetype": "text/x-python",
   "name": "python",
   "nbconvert_exporter": "python",
   "pygments_lexer": "ipython3",
   "version": "3.7.7"
  },
  "toc": {
   "base_numbering": 1,
   "nav_menu": {},
   "number_sections": false,
   "sideBar": false,
   "skip_h1_title": false,
   "title_cell": "Table of Contents",
   "title_sidebar": "Contents",
   "toc_cell": false,
   "toc_position": {},
   "toc_section_display": false,
   "toc_window_display": false
  }
 },
 "nbformat": 4,
 "nbformat_minor": 1
}
